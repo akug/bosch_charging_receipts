{
 "cells": [
  {
   "cell_type": "code",
   "execution_count": null,
   "metadata": {},
   "outputs": [],
   "source": [
    "%load_ext autoreload\n",
    "%autoreload 2\n",
    "\n",
    "import logging\n",
    "logging.basicConfig(level=logging.INFO)\n",
    "\n"
   ]
  },
  {
   "cell_type": "code",
   "execution_count": null,
   "metadata": {},
   "outputs": [],
   "source": [
    "from pathlib import Path\n",
    "\n",
    "import pymupdf4llm\n",
    "\n",
    "receipts_path = Path(\"/mnt/c/Users/alexk/Meine Ablage/KFZ/VW ID3/Rechnungen_Laden/\")\n",
    "\n",
    "paths = list(receipts_path.glob(\"*.PDF\")) + list(receipts_path.glob(\"*.pdf\"))\n",
    "\n",
    "md_texts = []\n",
    "for path in paths:\n",
    "    md_text = pymupdf4llm.to_markdown(path)\n",
    "    md_texts.append(md_text)"
   ]
  },
  {
   "cell_type": "code",
   "execution_count": null,
   "metadata": {},
   "outputs": [],
   "source": [
    "import pandas as pd\n",
    "from datetime import datetime\n",
    "\n",
    "def parse_name_and_address(text: str):\n",
    "    split = text.split(\" \")\n",
    "    return \" \".join(split[1:3]), \" \".join(split[3:])\n",
    "\n",
    "\n",
    "def parse_md_to_dict(md_text: str):\n",
    "    lines = md_text.split(\"\\n\")\n",
    "    result = {}\n",
    "    name, address = parse_name_and_address(lines[0])\n",
    "    result[\"name\"] = name\n",
    "    result[\"address\"] = address\n",
    "    for line_idx, line in enumerate(lines):\n",
    "        if line.startswith(\"#\") and \"Rechnungsnummer\" in line:\n",
    "            result[\"invoice_number\"] = line.split(\" \")[-1].strip()\n",
    "        if \"Rechnungsdatum\" in line:\n",
    "            result[\"invoice_date\"] = pd.Timestamp(datetime.strptime(line.split(\" \")[-1].strip(), '%d.%m.%Y'))\n",
    "        if \"Kundennummer\" in line:\n",
    "            result[\"customer_number\"] = line.split(\" \")[-1].strip()\n",
    "        if \"Vertragskonto\" in line:\n",
    "            result[\"contract_account\"] = line.split(\" \")[-1].strip()\n",
    "        if \"Startdatum\" in line:\n",
    "            split = line.split(\" \")\n",
    "            result[\"start_date\"] = split[1]\n",
    "            result[\"end_date\"] = split[3]\n",
    "        if \"Startzeit\" in line:\n",
    "            split = line.split(\" \")\n",
    "            result[\"start_time\"] = split[1]\n",
    "            result[\"end_time\"] = split[3]\n",
    "        if \"Gesamtbetrag\" in line:\n",
    "            result[\"total_amount\"] = float(line.split(\" \")[-1].strip().replace(\",\", \".\"))\n",
    "        if \"Charging Station\" in line:\n",
    "            result[\"charging_station\"] = \" \".join(lines[line_idx+2:line_idx+4])\n",
    "    result[\"start\"] = pd.Timestamp(datetime.strptime(result[\"start_date\"] + \" \" + result[\"start_time\"], '%d.%m.%Y %H:%M:%S'))\n",
    "    result[\"end\"] = pd.Timestamp(datetime.strptime(result[\"end_date\"] + \" \" + result[\"end_time\"], '%d.%m.%Y %H:%M:%S'))\n",
    "    result[\"duration\"] = result[\"end\"] - result[\"start\"]\n",
    "    for key in [\"start_date\", \"start_time\", \"end_date\", \"end_time\"]:\n",
    "        result.pop(key)\n",
    "    return result\n",
    "\n",
    "df = []\n",
    "for md_text in md_texts:\n",
    "    res = parse_md_to_dict(md_text)\n",
    "    df.append(res)\n",
    "df = pd.DataFrame(df)\n",
    "df.sort_values(\"start\", inplace=True)"
   ]
  },
  {
   "cell_type": "code",
   "execution_count": null,
   "metadata": {},
   "outputs": [],
   "source": [
    "print(df.columns)\n",
    "total = df[\"total_amount\"].sum()\n",
    "start = df.start.min().date()\n",
    "end = df.start.max().date()\n",
    "days = (end - start).days\n",
    "summary = f\"Over {days} days, you spent {total:.2f} EUR. That's {total/days*30:.2f} EUR per month.\"\n",
    "print(summary)\n",
    "df"
   ]
  },
  {
   "cell_type": "code",
   "execution_count": null,
   "metadata": {},
   "outputs": [],
   "source": [
    "save_path = Path(receipts_path, f\"rechnungen_{start}_{end}.csv\")\n",
    "print(save_path)\n",
    "with open(save_path.with_name(f\"rechnungen_{start}_{end}_statistik.txt\"), \"w\") as hd:\n",
    "    hd.write(summary)\n",
    "df.to_csv(save_path, index=False)"
   ]
  },
  {
   "cell_type": "code",
   "execution_count": null,
   "metadata": {},
   "outputs": [],
   "source": [
    "from datetime import datetime\n",
    "\n",
    "# datetime.strptime('14.11.2024', '%d.%m.%Y')\n",
    "# 14.11.2024\n",
    "# 14.11.2024 08:01:15"
   ]
  },
  {
   "cell_type": "code",
   "execution_count": null,
   "metadata": {},
   "outputs": [],
   "source": []
  }
 ],
 "metadata": {
  "kernelspec": {
   "display_name": "torch",
   "language": "python",
   "name": "python3"
  },
  "language_info": {
   "codemirror_mode": {
    "name": "ipython",
    "version": 3
   },
   "file_extension": ".py",
   "mimetype": "text/x-python",
   "name": "python",
   "nbconvert_exporter": "python",
   "pygments_lexer": "ipython3",
   "version": "3.11.5"
  }
 },
 "nbformat": 4,
 "nbformat_minor": 2
}
